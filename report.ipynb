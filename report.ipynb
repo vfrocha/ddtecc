{
  "nbformat": 4,
  "nbformat_minor": 0,
  "metadata": {
    "colab": {
      "name": "report_DDTECC.ipynb",
      "provenance": [],
      "collapsed_sections": [
        "piigOf1ab143",
        "DJqkcRcSEbJ1",
        "usUCX03jF8Lz",
        "k4AdeLgWGCMy",
        "PotIlUVYGGZ9",
        "9U_kebyeGQaG",
        "InGkkIoKWus7",
        "HDk_MjSKGIsn",
        "46-2A863YGLG",
        "7DKO81DpI7EH",
        "0GnZ3-q8Zdzm",
        "iu3IXd5Op9DO"
      ]
    },
    "kernelspec": {
      "name": "python3",
      "display_name": "Python 3"
    }
  },
  "cells": [
    {
      "cell_type": "markdown",
      "metadata": {
        "id": "jfnAX-aFAINo"
      },
      "source": [
        "# Experimental reports"
      ]
    },
    {
      "cell_type": "markdown",
      "source": [
        "Experiments performed on 15 data sets:\n",
        "\n",
        "\n",
        "* Yeast                    \n",
        "* CAL500                   \n",
        "* VirusGO                  \n",
        "* Enron                    \n",
        "* Emotions                 \n",
        "* Genbase                  \n",
        "* Image                    \n",
        "* 3sources_bbc1000         \n",
        "* 3sources_guardian1000    \n",
        "* 3sources_inter3000       \n",
        "* Water-quality            \n",
        "* Medical                  \n",
        "* GnegativeGO              \n",
        "* GpositiveGO              \n",
        "* Scene                    \n",
        "\n",
        "Methodology \n",
        "\n",
        "The dataset is divided into 10 folds, in each iteration of cross-validation one of these folds is selected as the test set and the remaining folds are divided into validation and training sets in the ratio of 30% and 70%, respectively. Each DTECCd model with Phic in [0.0, 0.25, 0.5, 0.75, 1] is then trained on the training set and validated on the validation set. The results for each model are then compared according to a pre-selected metric [accuracy, fmeasure, subset accuracy, hamming loss] and the best model is selected and applied to the test set. After 10 rounds we will have the results for all folds in the original data set for the selected metric."
      ],
      "metadata": {
        "id": "JX5EcXLvu20n"
      }
    },
    {
      "cell_type": "markdown",
      "metadata": {
        "id": "p_ICG7zyDWPJ"
      },
      "source": [
        "## Importing data"
      ]
    },
    {
      "cell_type": "code",
      "source": [
        "from google.colab import drive\n",
        "drive.mount('/content/drive')"
      ],
      "metadata": {
        "colab": {
          "base_uri": "https://localhost:8080/"
        },
        "id": "yQl60AsaRpK8",
        "outputId": "e9eafd71-4a53-42e8-a367-3c79e318abcd"
      },
      "execution_count": null,
      "outputs": [
        {
          "output_type": "stream",
          "name": "stdout",
          "text": [
            "Drive already mounted at /content/drive; to attempt to forcibly remount, call drive.mount(\"/content/drive\", force_remount=True).\n"
          ]
        }
      ]
    },
    {
      "cell_type": "code",
      "metadata": {
        "id": "y9GxdLY0zPBM"
      },
      "source": [
        "import pandas as pd\n",
        "import numpy as np\n",
        "import warnings\n",
        "warnings.simplefilter(action='ignore', category=FutureWarning)\n",
        "\n",
        "datasets = [\"Genbase\", \"GnegativeGO\",\"Yeast\",\"Medical\",\"3sources_inter3000\",\"3sources_guardian1000\",\"Scene\",\"3sources_bbc1000\",\"VirusGO\",\"Emotions\",\"GpositiveGO\",\"Enron\",\"Image\", \"Water-quality\",\"CAL500\"]\n",
        "\n",
        "def pretty_arffname(arfffilename):\n",
        "  size = len(arfffilename)\n",
        "  slash_position = arfffilename.find('/', int(size/2))\n",
        "  return arfffilename[slash_position+1:size-5]"
      ],
      "execution_count": null,
      "outputs": []
    },
    {
      "cell_type": "markdown",
      "source": [
        "## F-Measure"
      ],
      "metadata": {
        "id": "vyfJ3RUQCYmW"
      }
    },
    {
      "cell_type": "markdown",
      "source": [
        "### Preparation"
      ],
      "metadata": {
        "id": "KitT1YTgYoYG"
      }
    },
    {
      "cell_type": "code",
      "metadata": {
        "id": "Clhc0m47zYnp"
      },
      "source": [
        "df = pd.read_csv('/content/drive/MyDrive/Mestrado/DTECCMASK/phi search/FME/resultsFMEE.csv').fillna(0)\n",
        "\n",
        "df.arffFilename = df.arffFilename.apply(pretty_arffname)\n",
        "df = df[ df.arffFilename.isin(datasets) ]\n",
        "\n",
        "df.Learner = df.Learner.map({'EnsembleOfClassifierChainsStackSTACK': 'STACKECC', 'EnsembleOfClassifierChainsStack': 'STACKECC', 'EnsembleOfClassifierChainsDT': 'DTECC','EnsembleOfClassifierChainsMV': 'MVECC', 'EnsembleOfClassifierChainsME': 'MEECC'})\n",
        "df.drop(columns=['AverageMAE', 'AveragePrecision', 'AverageRMSE', 'Coverage', 'ErrorSetSize', 'LogLoss', 'MeanAveragePrecision', 'MeanSquaredError', 'MicroAUC', 'OneError', 'RankingLoss', 'RootMeanSquaredError'], inplace=True)"
      ],
      "execution_count": null,
      "outputs": []
    },
    {
      "cell_type": "code",
      "metadata": {
        "id": "UF92dysKBZ53"
      },
      "source": [
        "df['ACC_Rank'] = df.groupby(['arffFilename'])['ExampleBasedAccuracy'].rank(ascending=False)\n",
        "df['PRE_Rank'] = df.groupby(['arffFilename'])['ExampleBasedPrecision'].rank(ascending=False)\n",
        "df['REC_Rank'] = df.groupby(['arffFilename'])['ExampleBasedRecall'].rank(ascending=False)\n",
        "df['SAC_Rank'] = df.groupby(['arffFilename'])['SubsetAccuracy'].rank(ascending=False)\n",
        "df['FME_Rank'] = df.groupby(['arffFilename'])['ExampleBasedFMeasure'].rank(ascending=False)\n",
        "df['HML_Rank'] = df.groupby(['arffFilename'])['HammingLoss'].rank(ascending=True)\n",
        "\n",
        "df_fme = df"
      ],
      "execution_count": null,
      "outputs": []
    },
    {
      "cell_type": "code",
      "metadata": {
        "id": "S9f6SZH3D1LZ"
      },
      "source": [
        "def create_metric_table(metric = 'ExampleBasedAccuracy', rank = 'ACC_Rank'):\n",
        "  df_mv = df[df.Learner == 'MVECC'][['arffFilename',\tmetric, rank]].set_index('arffFilename')\n",
        "  df_mv.columns = ['MV', 'RankMV']\n",
        "  df_mv[\"MVECC\"] = df_mv[\"MV\"].apply(\"{:.4f}\".format) + '(' + df_mv[\"RankMV\"].astype(str) + ')'\n",
        "\n",
        "  df_me = df[df.Learner == 'MEECC'][['arffFilename',\tmetric, rank]].set_index('arffFilename')\n",
        "  df_me.columns = ['ME', 'RankME']\n",
        "  df_me[\"MEECC\"] = df_me[\"ME\"].apply(\"{:.4f}\".format) + '(' + df_me[\"RankME\"].astype(str) + ')'\n",
        "  \n",
        "  df_st = df[df.Learner == 'STACKECC'][['arffFilename',\tmetric, rank]].set_index('arffFilename')\n",
        "  df_st.columns = ['ST', 'RankSTACK']\n",
        "  df_st[\"STACKECC\"] = df_st[\"ST\"].apply(\"{:.4f}\".format) + '(' + df_st[\"RankSTACK\"].astype(str) + ')'\n",
        "  \n",
        "  df_mk = df[df.Learner == 'DTECC'][['arffFilename',\tmetric, rank]].set_index('arffFilename')\n",
        "  df_mk.columns = ['MK', 'RankMASK']\n",
        "  df_mk[\"DTECCd\"] = df_mk[\"MK\"].apply(\"{:.4f}\".format) + '(' + df_mk[\"RankMASK\"].astype(str) + ')'\n",
        "\n",
        "  return df_mv.join(df_me).join(df_st).join(df_mk)[['DTECCd', 'MEECC', 'MVECC', 'STACKECC']].sort_values(by=['arffFilename'])"
      ],
      "execution_count": null,
      "outputs": []
    },
    {
      "cell_type": "markdown",
      "source": [
        "### Results"
      ],
      "metadata": {
        "id": "hhbqXc3bY3eD"
      }
    },
    {
      "cell_type": "markdown",
      "source": [
        "Average ranking for F-Measure"
      ],
      "metadata": {
        "id": "x8bjTV64ZRz9"
      }
    },
    {
      "cell_type": "code",
      "metadata": {
        "id": "iBGMacUoCAv3",
        "colab": {
          "base_uri": "https://localhost:8080/",
          "height": 206
        },
        "outputId": "3892b751-19d0-456e-bbe4-9f84e27b71fa"
      },
      "source": [
        "df_mean_rank = df.groupby(['Learner'])[['FME_Rank']].mean()\n",
        "df_mean_rank.style.highlight_min(color='yellow')"
      ],
      "execution_count": null,
      "outputs": [
        {
          "output_type": "execute_result",
          "data": {
            "text/plain": [
              "<pandas.io.formats.style.Styler at 0x7faacf5cba10>"
            ],
            "text/html": [
              "<style type=\"text/css\">\n",
              "#T_2260e_row0_col0 {\n",
              "  background-color: yellow;\n",
              "}\n",
              "</style>\n",
              "<table id=\"T_2260e_\" class=\"dataframe\">\n",
              "  <thead>\n",
              "    <tr>\n",
              "      <th class=\"blank level0\" >&nbsp;</th>\n",
              "      <th class=\"col_heading level0 col0\" >FME_Rank</th>\n",
              "    </tr>\n",
              "    <tr>\n",
              "      <th class=\"index_name level0\" >Learner</th>\n",
              "      <th class=\"blank col0\" >&nbsp;</th>\n",
              "    </tr>\n",
              "  </thead>\n",
              "  <tbody>\n",
              "    <tr>\n",
              "      <th id=\"T_2260e_level0_row0\" class=\"row_heading level0 row0\" >DTECC</th>\n",
              "      <td id=\"T_2260e_row0_col0\" class=\"data row0 col0\" >1.933333</td>\n",
              "    </tr>\n",
              "    <tr>\n",
              "      <th id=\"T_2260e_level0_row1\" class=\"row_heading level0 row1\" >MEECC</th>\n",
              "      <td id=\"T_2260e_row1_col0\" class=\"data row1 col0\" >2.600000</td>\n",
              "    </tr>\n",
              "    <tr>\n",
              "      <th id=\"T_2260e_level0_row2\" class=\"row_heading level0 row2\" >MVECC</th>\n",
              "      <td id=\"T_2260e_row2_col0\" class=\"data row2 col0\" >2.266667</td>\n",
              "    </tr>\n",
              "    <tr>\n",
              "      <th id=\"T_2260e_level0_row3\" class=\"row_heading level0 row3\" >STACKECC</th>\n",
              "      <td id=\"T_2260e_row3_col0\" class=\"data row3 col0\" >3.200000</td>\n",
              "    </tr>\n",
              "  </tbody>\n",
              "</table>\n"
            ]
          },
          "metadata": {},
          "execution_count": 16
        }
      ]
    },
    {
      "cell_type": "markdown",
      "source": [
        "## Subset-accuracy"
      ],
      "metadata": {
        "id": "8-0bpW8jCet8"
      }
    },
    {
      "cell_type": "markdown",
      "source": [
        "### Preparation"
      ],
      "metadata": {
        "id": "d_37yNS7ZkLh"
      }
    },
    {
      "cell_type": "code",
      "metadata": {
        "id": "1RhQ_Myn2QMZ"
      },
      "source": [
        "df = pd.read_csv('/content/drive/MyDrive/Mestrado/DTECCMASK/phi search/SAC/resultsSACE.csv').fillna(0)\n",
        "\n",
        "df.arffFilename = df.arffFilename.apply(pretty_arffname)\n",
        "df = df[ df.arffFilename.isin(datasets) ]\n",
        "\n",
        "df.Learner = df.Learner.map({'EnsembleOfClassifierChainsStackSTACK': 'STACKECC', 'EnsembleOfClassifierChainsStack': 'STACKECC', 'EnsembleOfClassifierChainsDT': 'DTECC','EnsembleOfClassifierChainsMV': 'MVECC', 'EnsembleOfClassifierChainsME': 'MEECC'})\n",
        "df.drop(columns=['AverageMAE', 'AveragePrecision', 'AverageRMSE', 'Coverage', 'ErrorSetSize', 'LogLoss', 'MeanAveragePrecision', 'MeanSquaredError', 'MicroAUC', 'OneError', 'RankingLoss', 'RootMeanSquaredError'], inplace=True)"
      ],
      "execution_count": null,
      "outputs": []
    },
    {
      "cell_type": "code",
      "metadata": {
        "id": "K5xQ1Uo93P6T"
      },
      "source": [
        "df['ACC_Rank'] = df.groupby(['arffFilename'])['ExampleBasedAccuracy'].rank(ascending=False)\n",
        "df['PRE_Rank'] = df.groupby(['arffFilename'])['ExampleBasedPrecision'].rank(ascending=False)\n",
        "df['REC_Rank'] = df.groupby(['arffFilename'])['ExampleBasedRecall'].rank(ascending=False)\n",
        "df['SAC_Rank'] = df.groupby(['arffFilename'])['SubsetAccuracy'].rank(ascending=False)\n",
        "df['FME_Rank'] = df.groupby(['arffFilename'])['ExampleBasedFMeasure'].rank(ascending=False)\n",
        "df['HML_Rank'] = df.groupby(['arffFilename'])['HammingLoss'].rank(ascending=True)\n",
        "\n",
        "df_sac = df"
      ],
      "execution_count": null,
      "outputs": []
    },
    {
      "cell_type": "markdown",
      "source": [
        "### Results"
      ],
      "metadata": {
        "id": "GeQvX0VdZ7ar"
      }
    },
    {
      "cell_type": "markdown",
      "source": [
        "Average ranking for Subset Accuracy"
      ],
      "metadata": {
        "id": "0CZjrnt4awM-"
      }
    },
    {
      "cell_type": "code",
      "metadata": {
        "id": "-tyguxs93fp-",
        "colab": {
          "base_uri": "https://localhost:8080/",
          "height": 206
        },
        "outputId": "ae1673f6-5a68-4683-898d-52ea0fa942fd"
      },
      "source": [
        "df_mean_rank = df.groupby(['Learner'])[['SAC_Rank']].mean()\n",
        "df_mean_rank.style.highlight_min(color='yellow')"
      ],
      "execution_count": null,
      "outputs": [
        {
          "output_type": "execute_result",
          "data": {
            "text/plain": [
              "<pandas.io.formats.style.Styler at 0x7faace7aba10>"
            ],
            "text/html": [
              "<style type=\"text/css\">\n",
              "#T_ec9f0_row0_col0 {\n",
              "  background-color: yellow;\n",
              "}\n",
              "</style>\n",
              "<table id=\"T_ec9f0_\" class=\"dataframe\">\n",
              "  <thead>\n",
              "    <tr>\n",
              "      <th class=\"blank level0\" >&nbsp;</th>\n",
              "      <th class=\"col_heading level0 col0\" >SAC_Rank</th>\n",
              "    </tr>\n",
              "    <tr>\n",
              "      <th class=\"index_name level0\" >Learner</th>\n",
              "      <th class=\"blank col0\" >&nbsp;</th>\n",
              "    </tr>\n",
              "  </thead>\n",
              "  <tbody>\n",
              "    <tr>\n",
              "      <th id=\"T_ec9f0_level0_row0\" class=\"row_heading level0 row0\" >DTECC</th>\n",
              "      <td id=\"T_ec9f0_row0_col0\" class=\"data row0 col0\" >2.033333</td>\n",
              "    </tr>\n",
              "    <tr>\n",
              "      <th id=\"T_ec9f0_level0_row1\" class=\"row_heading level0 row1\" >MEECC</th>\n",
              "      <td id=\"T_ec9f0_row1_col0\" class=\"data row1 col0\" >2.200000</td>\n",
              "    </tr>\n",
              "    <tr>\n",
              "      <th id=\"T_ec9f0_level0_row2\" class=\"row_heading level0 row2\" >MVECC</th>\n",
              "      <td id=\"T_ec9f0_row2_col0\" class=\"data row2 col0\" >2.500000</td>\n",
              "    </tr>\n",
              "    <tr>\n",
              "      <th id=\"T_ec9f0_level0_row3\" class=\"row_heading level0 row3\" >STACKECC</th>\n",
              "      <td id=\"T_ec9f0_row3_col0\" class=\"data row3 col0\" >3.266667</td>\n",
              "    </tr>\n",
              "  </tbody>\n",
              "</table>\n"
            ]
          },
          "metadata": {},
          "execution_count": 19
        }
      ]
    },
    {
      "cell_type": "markdown",
      "source": [
        "## Accuracy"
      ],
      "metadata": {
        "id": "r6ntNigRDm-i"
      }
    },
    {
      "cell_type": "markdown",
      "source": [
        "### Preparation"
      ],
      "metadata": {
        "id": "sH_wUQz0aMhb"
      }
    },
    {
      "cell_type": "code",
      "source": [
        "df = pd.read_csv('/content/drive/MyDrive/Mestrado/DTECCMASK/phi search/ACC/resultsACCE.csv').fillna(0)\n",
        "df.arffFilename = df.arffFilename.apply(pretty_arffname)\n",
        "df = df[ df.arffFilename.isin(datasets) ]\n",
        "df.Learner = df.Learner.map({'EnsembleOfClassifierChainsStack': 'STACKECC', 'EnsembleOfClassifierChainsDT': 'DTECC','EnsembleOfClassifierChainsMV': 'MVECC', 'EnsembleOfClassifierChainsME': 'MEECC'})\n",
        "df.drop(columns=['AverageMAE', 'AveragePrecision', 'AverageRMSE', 'Coverage', 'ErrorSetSize', 'LogLoss', 'MeanAveragePrecision', 'MeanSquaredError', 'MicroAUC', 'OneError', 'RankingLoss', 'RootMeanSquaredError'], inplace=True)"
      ],
      "metadata": {
        "id": "8H2q5_JGDowv"
      },
      "execution_count": null,
      "outputs": []
    },
    {
      "cell_type": "code",
      "source": [
        "df['ACC_Rank'] = df.groupby(['arffFilename'])['ExampleBasedAccuracy'].rank(ascending=False)\n",
        "df['PRE_Rank'] = df.groupby(['arffFilename'])['ExampleBasedPrecision'].rank(ascending=False)\n",
        "df['REC_Rank'] = df.groupby(['arffFilename'])['ExampleBasedRecall'].rank(ascending=False)\n",
        "df['SAC_Rank'] = df.groupby(['arffFilename'])['SubsetAccuracy'].rank(ascending=False)\n",
        "df['FME_Rank'] = df.groupby(['arffFilename'])['ExampleBasedFMeasure'].rank(ascending=False)\n",
        "df['HML_Rank'] = df.groupby(['arffFilename'])['HammingLoss'].rank(ascending=True)\n",
        "\n",
        "df_acc = df"
      ],
      "metadata": {
        "id": "Wb79teEoD-aL"
      },
      "execution_count": null,
      "outputs": []
    },
    {
      "cell_type": "markdown",
      "source": [
        "### Results"
      ],
      "metadata": {
        "id": "QYUQ2aUjaN2f"
      }
    },
    {
      "cell_type": "markdown",
      "source": [
        "Average ranking for Accuracy"
      ],
      "metadata": {
        "id": "7zJhJKNwaxqO"
      }
    },
    {
      "cell_type": "code",
      "source": [
        "df_mean_rank = df.groupby(['Learner'])[['ACC_Rank']].mean()\n",
        "df_mean_rank.style.highlight_min(color='yellow')"
      ],
      "metadata": {
        "id": "usYDagWYEHon",
        "colab": {
          "base_uri": "https://localhost:8080/",
          "height": 206
        },
        "outputId": "374d049d-32a2-4e13-c574-3f6349733933"
      },
      "execution_count": null,
      "outputs": [
        {
          "output_type": "execute_result",
          "data": {
            "text/plain": [
              "<pandas.io.formats.style.Styler at 0x7faace7b1a50>"
            ],
            "text/html": [
              "<style type=\"text/css\">\n",
              "#T_1ddb6_row0_col0 {\n",
              "  background-color: yellow;\n",
              "}\n",
              "</style>\n",
              "<table id=\"T_1ddb6_\" class=\"dataframe\">\n",
              "  <thead>\n",
              "    <tr>\n",
              "      <th class=\"blank level0\" >&nbsp;</th>\n",
              "      <th class=\"col_heading level0 col0\" >ACC_Rank</th>\n",
              "    </tr>\n",
              "    <tr>\n",
              "      <th class=\"index_name level0\" >Learner</th>\n",
              "      <th class=\"blank col0\" >&nbsp;</th>\n",
              "    </tr>\n",
              "  </thead>\n",
              "  <tbody>\n",
              "    <tr>\n",
              "      <th id=\"T_1ddb6_level0_row0\" class=\"row_heading level0 row0\" >DTECC</th>\n",
              "      <td id=\"T_1ddb6_row0_col0\" class=\"data row0 col0\" >1.766667</td>\n",
              "    </tr>\n",
              "    <tr>\n",
              "      <th id=\"T_1ddb6_level0_row1\" class=\"row_heading level0 row1\" >MEECC</th>\n",
              "      <td id=\"T_1ddb6_row1_col0\" class=\"data row1 col0\" >2.733333</td>\n",
              "    </tr>\n",
              "    <tr>\n",
              "      <th id=\"T_1ddb6_level0_row2\" class=\"row_heading level0 row2\" >MVECC</th>\n",
              "      <td id=\"T_1ddb6_row2_col0\" class=\"data row2 col0\" >2.433333</td>\n",
              "    </tr>\n",
              "    <tr>\n",
              "      <th id=\"T_1ddb6_level0_row3\" class=\"row_heading level0 row3\" >STACKECC</th>\n",
              "      <td id=\"T_1ddb6_row3_col0\" class=\"data row3 col0\" >3.066667</td>\n",
              "    </tr>\n",
              "  </tbody>\n",
              "</table>\n"
            ]
          },
          "metadata": {},
          "execution_count": 22
        }
      ]
    },
    {
      "cell_type": "markdown",
      "source": [
        "## Hamming Loss\n"
      ],
      "metadata": {
        "id": "MRVVMN331GgX"
      }
    },
    {
      "cell_type": "markdown",
      "source": [
        "### Preparation"
      ],
      "metadata": {
        "id": "9NYrdpXQaRqe"
      }
    },
    {
      "cell_type": "code",
      "source": [
        "df = pd.read_csv('/content/drive/MyDrive/Mestrado/DTECCMASK/phi search/HML/resultsHMLE.csv').fillna(0)\n",
        "\n",
        "def pretty_arffname(arfffilename):\n",
        "  size = len(arfffilename)\n",
        "  slash_position = arfffilename.find('/', int(size/2))\n",
        "  return arfffilename[slash_position+1:size-5]\n",
        "\n",
        "\n",
        "df.arffFilename = df.arffFilename.apply(pretty_arffname)\n",
        "\n",
        "#df = df[ (df.arffFilename == \"Water-quality\") | (df.arffFilename == \"Medical\") | (df.arffFilename == \"GnegativeGO\") | (df.arffFilename == \"Genbase\") | (df.arffFilename == \"Enron\") | (df.arffFilename == \"Emotions\") | (df.arffFilename == \"CAL500\") | (df.arffFilename == \"3sources_inter3000\") | (df.arffFilename == \"3sources_guardian1000\") | (df.arffFilename == \"VirusGO\") | (df.arffFilename == \"GpositiveGO\") ]#| (df.arffFilename == \"Yeast\") | (df.arffFilename == \"Image\") | (df.arffFilename == \"3sources_bbc1000\") | (df.arffFilename == \"Scene\")\n",
        "'''\n",
        "Yeast                    3\n",
        "Image                    3\n",
        "3sources_bbc1000         3\n",
        "Scene                    3\n",
        "'''\n",
        "df = df[ df.arffFilename.isin(datasets) ]\n",
        "\n",
        "\n",
        "df.Learner = df.Learner.map({'EnsembleOfClassifierChainsStack': 'STACKECC', 'EnsembleOfClassifierChainsDT': 'DTECC','EnsembleOfClassifierChainsMV': 'MVECC', 'EnsembleOfClassifierChainsME': 'MEECC'})\n",
        "df = df[ (df.Learner != \"MLS\") ]\n",
        "df.drop(columns=['AverageMAE', 'AveragePrecision', 'AverageRMSE', 'Coverage', 'ErrorSetSize', 'LogLoss', 'MeanAveragePrecision', 'MeanSquaredError', 'MicroAUC', 'OneError', 'RankingLoss', 'RootMeanSquaredError'], inplace=True)"
      ],
      "metadata": {
        "id": "bdyLU5Ch1Ple"
      },
      "execution_count": null,
      "outputs": []
    },
    {
      "cell_type": "code",
      "source": [
        "df['ACC_Rank'] = df.groupby(['arffFilename'])['ExampleBasedAccuracy'].rank(ascending=False)\n",
        "df['PRE_Rank'] = df.groupby(['arffFilename'])['ExampleBasedPrecision'].rank(ascending=False)\n",
        "df['REC_Rank'] = df.groupby(['arffFilename'])['ExampleBasedRecall'].rank(ascending=False)\n",
        "df['SAC_Rank'] = df.groupby(['arffFilename'])['SubsetAccuracy'].rank(ascending=False)\n",
        "df['FME_Rank'] = df.groupby(['arffFilename'])['ExampleBasedFMeasure'].rank(ascending=False)\n",
        "df['HML_Rank'] = df.groupby(['arffFilename'])['HammingLoss'].rank(ascending=True)\n",
        "\n",
        "df_hml = df"
      ],
      "metadata": {
        "id": "seVynFZ_caMI"
      },
      "execution_count": null,
      "outputs": []
    },
    {
      "cell_type": "markdown",
      "source": [
        "### Results"
      ],
      "metadata": {
        "id": "rRp8kYIDaWzt"
      }
    },
    {
      "cell_type": "markdown",
      "source": [
        "Average ranking for Hamming Loss"
      ],
      "metadata": {
        "id": "XcPB_1oPaz9V"
      }
    },
    {
      "cell_type": "code",
      "source": [
        "df_mean_rank = df.groupby(['Learner'])[['HML_Rank']].mean()\n",
        "df_mean_rank.style.highlight_min(color='yellow')"
      ],
      "metadata": {
        "id": "5Ei6CzKg1wVV",
        "colab": {
          "base_uri": "https://localhost:8080/",
          "height": 206
        },
        "outputId": "ed93dc74-81cf-4027-c14f-842df22eea9a"
      },
      "execution_count": null,
      "outputs": [
        {
          "output_type": "execute_result",
          "data": {
            "text/plain": [
              "<pandas.io.formats.style.Styler at 0x7faace7afd10>"
            ],
            "text/html": [
              "<style type=\"text/css\">\n",
              "#T_3fdd2_row1_col0 {\n",
              "  background-color: yellow;\n",
              "}\n",
              "</style>\n",
              "<table id=\"T_3fdd2_\" class=\"dataframe\">\n",
              "  <thead>\n",
              "    <tr>\n",
              "      <th class=\"blank level0\" >&nbsp;</th>\n",
              "      <th class=\"col_heading level0 col0\" >HML_Rank</th>\n",
              "    </tr>\n",
              "    <tr>\n",
              "      <th class=\"index_name level0\" >Learner</th>\n",
              "      <th class=\"blank col0\" >&nbsp;</th>\n",
              "    </tr>\n",
              "  </thead>\n",
              "  <tbody>\n",
              "    <tr>\n",
              "      <th id=\"T_3fdd2_level0_row0\" class=\"row_heading level0 row0\" >DTECC</th>\n",
              "      <td id=\"T_3fdd2_row0_col0\" class=\"data row0 col0\" >2.166667</td>\n",
              "    </tr>\n",
              "    <tr>\n",
              "      <th id=\"T_3fdd2_level0_row1\" class=\"row_heading level0 row1\" >MEECC</th>\n",
              "      <td id=\"T_3fdd2_row1_col0\" class=\"data row1 col0\" >1.933333</td>\n",
              "    </tr>\n",
              "    <tr>\n",
              "      <th id=\"T_3fdd2_level0_row2\" class=\"row_heading level0 row2\" >MVECC</th>\n",
              "      <td id=\"T_3fdd2_row2_col0\" class=\"data row2 col0\" >2.533333</td>\n",
              "    </tr>\n",
              "    <tr>\n",
              "      <th id=\"T_3fdd2_level0_row3\" class=\"row_heading level0 row3\" >STACKECC</th>\n",
              "      <td id=\"T_3fdd2_row3_col0\" class=\"data row3 col0\" >3.366667</td>\n",
              "    </tr>\n",
              "  </tbody>\n",
              "</table>\n"
            ]
          },
          "metadata": {},
          "execution_count": 25
        }
      ]
    },
    {
      "cell_type": "markdown",
      "metadata": {
        "id": "yJbujYPFrqwZ"
      },
      "source": [
        "# Friedman-Nemenyi\n",
        "\n",
        "https://orange3.readthedocs.io/projects/orange-data-mining-library/en/latest/reference/evaluation.cd.html"
      ]
    },
    {
      "cell_type": "code",
      "source": [
        "!pip install orange3"
      ],
      "metadata": {
        "id": "JkEasBCHevXf"
      },
      "execution_count": null,
      "outputs": []
    },
    {
      "cell_type": "code",
      "source": [
        "\n",
        "def compare_table(df, metric):\n",
        "  df_mv = df[df.Learner == 'MVECC'][['arffFilename',\tmetric]].set_index('arffFilename')\n",
        "  df_mv.columns = ['MVECC']\n",
        "\n",
        "  df_me = df[df.Learner == 'MEECC'][['arffFilename',\tmetric]].set_index('arffFilename')\n",
        "  df_me.columns = ['MEECC']\n",
        "  \n",
        "  df_dtf = df[df.Learner == 'DTECC'][['arffFilename',\tmetric]].set_index('arffFilename')\n",
        "  df_dtf.columns = ['DTECC']\n",
        "\n",
        "  df_st = df[df.Learner == 'STACKECC'][['arffFilename',\tmetric]].set_index('arffFilename')\n",
        "  df_st.columns = ['STACKECC']\n",
        "\n",
        "  return df_mv.join(df_me).join(df_dtf).join(df_st)"
      ],
      "metadata": {
        "id": "1sI1IpEDfYOb"
      },
      "execution_count": null,
      "outputs": []
    },
    {
      "cell_type": "code",
      "metadata": {
        "id": "qVP3hLJzq2pi"
      },
      "source": [
        "from Orange.evaluation import compute_CD, graph_ranks\n",
        "from scipy.stats import wilcoxon, friedmanchisquare, rankdata\n",
        "import matplotlib.pyplot as plt\n",
        "\n",
        "def friedman_nemeyi_test(df, metric, ascending=False):\n",
        "  df_metric = compare_table(df, metric)\n",
        "  # First, we extract the algorithms names.\n",
        "  algorithms_names = df_metric.columns\n",
        "  # Then, we extract the performances as a numpy.ndarray.\n",
        "  performances_array = df_metric[algorithms_names].values\n",
        "  # Finally, we apply the Friedman test.\n",
        "  print(friedmanchisquare(*performances_array))\n",
        "\n",
        "  # Calculating the ranks of the algorithms for each dataset. The value of p is multipled by -1\n",
        "  # because the rankdata method ranks from the smallest to the greatest performance values.\n",
        "  # Since we are considering AUC as our performance measure, we want larger values to be best ranked.\n",
        "  multiplier = 1 if ascending else -1\n",
        "  ranks = np.array([rankdata(multiplier*p) for p in performances_array])\n",
        "  # Calculating the average ranks.\n",
        "  average_ranks = np.mean(ranks, axis=0)\n",
        "  print('\\n'.join('{} average rank: {}'.format(a, r) for a, r in zip(algorithms_names, average_ranks)))\n",
        "\n",
        "  # This method computes the critical difference for Nemenyi test with alpha=0.1.\n",
        "  # For some reason, this method only accepts alpha='0.05' or alpha='0.1'.\n",
        "  cd = compute_CD(average_ranks,\n",
        "    n=len(df_metric),\n",
        "    alpha='0.1',\n",
        "    test='nemenyi')\n",
        "  # This method generates the plot.\n",
        "  graph_ranks(average_ranks,\n",
        "    names=algorithms_names,\n",
        "    cd=cd,\n",
        "    width=4,\n",
        "    textspace=1.5,\n",
        "    reverse=True)\n",
        "  plt.show()"
      ],
      "execution_count": null,
      "outputs": []
    },
    {
      "cell_type": "code",
      "source": [
        "friedman_nemeyi_test(df_fme, 'ExampleBasedFMeasure')"
      ],
      "metadata": {
        "colab": {
          "base_uri": "https://localhost:8080/",
          "height": 237
        },
        "id": "8Q8QzKyYg0TK",
        "outputId": "69e7d45c-f390-4079-a5a8-16391f0bf63a"
      },
      "execution_count": null,
      "outputs": [
        {
          "output_type": "stream",
          "name": "stdout",
          "text": [
            "FriedmanchisquareResult(statistic=51.875, pvalue=2.9523722212766094e-06)\n",
            "MVECC average rank: 2.2666666666666666\n",
            "MEECC average rank: 2.6\n",
            "DTECC average rank: 1.9333333333333333\n",
            "STACKECC average rank: 3.2\n"
          ]
        },
        {
          "output_type": "display_data",
          "data": {
            "text/plain": [
              "<Figure size 288x118.8 with 1 Axes>"
            ],
            "image/png": "[encoded data removed]"
          },
          "metadata": {}
        }
      ]
    },
    {
      "cell_type": "code",
      "source": [
        "friedman_nemeyi_test(df_acc, 'ExampleBasedAccuracy')"
      ],
      "metadata": {
        "colab": {
          "base_uri": "https://localhost:8080/",
          "height": 237
        },
        "id": "Y3IQv94Ig9mk",
        "outputId": "dcef7e1d-0c6f-463b-baf5-b85351fe89c6"
      },
      "execution_count": null,
      "outputs": [
        {
          "output_type": "stream",
          "name": "stdout",
          "text": [
            "FriedmanchisquareResult(statistic=50.60000000000002, pvalue=4.843191325641056e-06)\n",
            "MVECC average rank: 2.433333333333333\n",
            "MEECC average rank: 2.7333333333333334\n",
            "DTECC average rank: 1.7666666666666666\n",
            "STACKECC average rank: 3.066666666666667\n"
          ]
        },
        {
          "output_type": "display_data",
          "data": {
            "text/plain": [
              "<Figure size 288x118.8 with 1 Axes>"
            ],
            "image/png": "[encoded data removed]"
          },
          "metadata": {}
        }
      ]
    },
    {
      "cell_type": "code",
      "source": [
        "friedman_nemeyi_test(df_sac, 'SubsetAccuracy')"
      ],
      "metadata": {
        "colab": {
          "base_uri": "https://localhost:8080/",
          "height": 237
        },
        "id": "aIZw-V-dhC8k",
        "outputId": "403ebc06-21d4-44f9-b822-76d4a86e474f"
      },
      "execution_count": null,
      "outputs": [
        {
          "output_type": "stream",
          "name": "stdout",
          "text": [
            "FriedmanchisquareResult(statistic=47.688869021010284, pvalue=1.4798929449216794e-05)\n",
            "MVECC average rank: 2.5\n",
            "MEECC average rank: 2.2\n",
            "DTECC average rank: 2.033333333333333\n",
            "STACKECC average rank: 3.2666666666666666\n"
          ]
        },
        {
          "output_type": "display_data",
          "data": {
            "text/plain": [
              "<Figure size 288x118.8 with 1 Axes>"
            ],
            "image/png": "[encoded data removed]"
          },
          "metadata": {}
        }
      ]
    },
    {
      "cell_type": "code",
      "source": [
        "friedman_nemeyi_test(df_hml, 'HammingLoss', True)"
      ],
      "metadata": {
        "colab": {
          "base_uri": "https://localhost:8080/",
          "height": 237
        },
        "id": "WGxLbBA5hJMU",
        "outputId": "62c69f8d-941c-4c6a-bd1d-ab4a28fa5ddd"
      },
      "execution_count": null,
      "outputs": [
        {
          "output_type": "stream",
          "name": "stdout",
          "text": [
            "FriedmanchisquareResult(statistic=37.400000000000006, pvalue=0.0006415365238120967)\n",
            "MVECC average rank: 2.533333333333333\n",
            "MEECC average rank: 1.9333333333333333\n",
            "DTECC average rank: 2.1666666666666665\n",
            "STACKECC average rank: 3.3666666666666667\n"
          ]
        },
        {
          "output_type": "display_data",
          "data": {
            "text/plain": [
              "<Figure size 288x118.8 with 1 Axes>"
            ],
            "image/png": "[encoded data removed]"
          },
          "metadata": {}
        }
      ]
    }
  ]
}